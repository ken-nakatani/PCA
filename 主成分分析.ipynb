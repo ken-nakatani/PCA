{
 "cells": [
  {
   "cell_type": "code",
   "execution_count": 1,
   "metadata": {},
   "outputs": [],
   "source": [
    "# 分析・計算用\n",
    "import numpy as np\n",
    "\n",
    "# プロット用\n",
    "import matplotlib.pyplot as plt\n",
    "%matplotlib inline\n",
    "\n",
    "# 機械学習用\n",
    "from sklearn.decomposition import PCA\n",
    "\n",
    "import os"
   ]
  },
  {
   "cell_type": "code",
   "execution_count": 2,
   "metadata": {
    "scrolled": true
   },
   "outputs": [],
   "source": [
    "oliv=np.loadtxt('/home/nakataniken/CSVファイルの配列操作（分析用のデータセット）/pooling1.csv')"
   ]
  },
  {
   "cell_type": "code",
   "execution_count": 3,
   "metadata": {},
   "outputs": [
    {
     "data": {
      "text/plain": [
       "(6400, 5625)"
      ]
     },
     "execution_count": 3,
     "metadata": {},
     "output_type": "execute_result"
    }
   ],
   "source": [
    "\n",
    "oliv.data.shape"
   ]
  },
  {
   "cell_type": "code",
   "execution_count": 13,
   "metadata": {},
   "outputs": [
    {
     "data": {
      "text/plain": [
       "(6400, 5625)"
      ]
     },
     "execution_count": 13,
     "metadata": {},
     "output_type": "execute_result"
    }
   ],
   "source": [
    "X=oliv.data\n",
    "pca_oliv = PCA(5625)\n",
    "X_proj = pca_oliv.fit_transform(X)\n",
    "X_proj.shape"
   ]
  },
  {
   "cell_type": "code",
   "execution_count": 14,
   "metadata": {},
   "outputs": [
    {
     "data": {
      "text/plain": [
       "array([0.38745187, 0.42381666, 0.45288001, ..., 0.99999999, 0.99999999,\n",
       "       1.        ])"
      ]
     },
     "execution_count": 14,
     "metadata": {},
     "output_type": "execute_result"
    }
   ],
   "source": [
    "np.cumsum(pca_oliv.explained_variance_ratio_)"
   ]
  },
  {
   "cell_type": "code",
   "execution_count": 15,
   "metadata": {},
   "outputs": [
    {
     "name": "stdout",
     "output_type": "stream",
     "text": [
      "データの50%を表すのに軸は: 7 本\n",
      "データの75%を表すのに軸は: 145 本\n",
      "データの85%を表すのに軸は: 291 本\n"
     ]
    }
   ],
   "source": [
    "print('データの50%を表すのに軸は: {} 本'.format(np.sum(np.cumsum(pca_oliv.explained_variance_ratio_) < 0.50)))\n",
    "print('データの75%を表すのに軸は: {} 本'.format(np.sum(np.cumsum(pca_oliv.explained_variance_ratio_) < 0.75)))\n",
    "print('データの85%を表すのに軸は: {} 本'.format(np.sum(np.cumsum(pca_oliv.explained_variance_ratio_) < 0.85)))"
   ]
  },
  {
   "cell_type": "code",
   "execution_count": null,
   "metadata": {},
   "outputs": [],
   "source": []
  }
 ],
 "metadata": {
  "kernelspec": {
   "display_name": "Python 3",
   "language": "python",
   "name": "python3"
  },
  "language_info": {
   "codemirror_mode": {
    "name": "ipython",
    "version": 3
   },
   "file_extension": ".py",
   "mimetype": "text/x-python",
   "name": "python",
   "nbconvert_exporter": "python",
   "pygments_lexer": "ipython3",
   "version": "3.7.4"
  }
 },
 "nbformat": 4,
 "nbformat_minor": 2
}
